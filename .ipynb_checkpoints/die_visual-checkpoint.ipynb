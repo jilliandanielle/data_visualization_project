{
 "cells": [
  {
   "cell_type": "code",
   "execution_count": 7,
   "id": "9c7f5211",
   "metadata": {},
   "outputs": [],
   "source": [
    "from random import randint\n",
    "\n",
    "class Die:\n",
    "    \n",
    "    def __init__(self, num_sides=6):\n",
    "        self.num_sides = num_sides\n",
    "\n",
    "        \n",
    "    def roll(self):\n",
    "        return randint(1, self.num_sides)\n",
    "    "
   ]
  },
  {
   "cell_type": "code",
   "execution_count": 10,
   "id": "9d50fa32",
   "metadata": {},
   "outputs": [
    {
     "name": "stdout",
     "output_type": "stream",
     "text": [
      "[5, 2, 2, 3, 2, 5, 5, 4, 4, 2, 5, 2, 1, 2, 4, 5, 2, 3, 1, 5, 1, 5, 4, 1, 1, 1, 6, 5, 1, 1, 3, 3, 4, 4, 6, 1, 3, 5, 3, 4, 2, 2, 3, 4, 4, 4, 1, 3, 4, 1, 3, 2, 2, 2, 6, 2, 2, 3, 2, 1, 1, 1, 5, 1, 2, 6, 6, 3, 3, 5, 3, 2, 5, 5, 5, 3, 5, 3, 1, 6, 1, 6, 3, 4, 1, 1, 6, 5, 2, 3, 5, 2, 5, 6, 5, 2, 3, 4, 5, 6]\n",
      "[19, 20, 18, 13, 20, 10]\n"
     ]
    }
   ],
   "source": [
    "from plotly.graph_objs import Bar, Layout\n",
    "from plotly import offline\n",
    "\n",
    "die_1 = Die()\n",
    "die_2 = Die()\n",
    "\n",
    "results = []\n",
    "for roll_num in range(100):\n",
    "    result = die_1.roll() + die_2.roll()\n",
    "    results.append(result)\n",
    "    \n",
    "frequencies = []\n",
    "max_result = die_1.num_sides + die_2.num_sides\n",
    "for value in range(2,max_result+1):\n",
    "    frequency = results.count(value)\n",
    "    frequencies.append(frequency)\n",
    "    \n",
    "print(results)\n",
    "print(frequencies)"
   ]
  },
  {
   "cell_type": "code",
   "execution_count": 11,
   "id": "c01fdf8f",
   "metadata": {},
   "outputs": [
    {
     "data": {
      "text/plain": [
       "'d6.html'"
      ]
     },
     "execution_count": 11,
     "metadata": {},
     "output_type": "execute_result"
    }
   ],
   "source": [
    "x_values = list(range(2, max_result+1))\n",
    "data = [Bar(x=x_values, y=frequencies)]\n",
    "\n",
    "x_axis_config = {'title': 'Result', 'dtick': 1}\n",
    "y_axis_config = {'title': 'Frequency of Result'}\n",
    "\n",
    "my_layout = Layout(title='Results of rolling two D6 1000 times', xaxis=x_axis_config, yaxis=y_axis_config)\n",
    "offline.plot({'data': data, 'layout': my_layout}, filename='d6_d6.html')"
   ]
  },
  {
   "cell_type": "code",
   "execution_count": null,
   "id": "d26dca19",
   "metadata": {},
   "outputs": [],
   "source": []
  },
  {
   "cell_type": "code",
   "execution_count": null,
   "id": "66f1d25f",
   "metadata": {},
   "outputs": [],
   "source": []
  }
 ],
 "metadata": {
  "kernelspec": {
   "display_name": "Python 3 (ipykernel)",
   "language": "python",
   "name": "python3"
  },
  "language_info": {
   "codemirror_mode": {
    "name": "ipython",
    "version": 3
   },
   "file_extension": ".py",
   "mimetype": "text/x-python",
   "name": "python",
   "nbconvert_exporter": "python",
   "pygments_lexer": "ipython3",
   "version": "3.9.7"
  }
 },
 "nbformat": 4,
 "nbformat_minor": 5
}
