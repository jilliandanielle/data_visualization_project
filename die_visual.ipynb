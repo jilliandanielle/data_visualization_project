{
 "cells": [
  {
   "cell_type": "code",
   "execution_count": 12,
   "id": "9c7f5211",
   "metadata": {},
   "outputs": [],
   "source": [
    "from random import randint\n",
    "\n",
    "class Die:\n",
    "    \n",
    "    def __init__(self, num_sides=6):\n",
    "        self.num_sides = num_sides\n",
    "\n",
    "        \n",
    "    def roll(self):\n",
    "        return randint(1, self.num_sides)\n",
    "    "
   ]
  },
  {
   "cell_type": "code",
   "execution_count": 13,
   "id": "9d50fa32",
   "metadata": {},
   "outputs": [
    {
     "name": "stdout",
     "output_type": "stream",
     "text": [
      "[1, 2, 5, 4, 1, 5, 5, 1, 5, 5, 2, 1, 6, 2, 1, 4, 6, 5, 2, 3, 3, 2, 4, 1, 3, 6, 2, 3, 2, 6, 3, 3, 2, 6, 1, 2, 2, 6, 4, 4, 5, 5, 4, 3, 4, 1, 2, 3, 6, 6, 2, 5, 2, 6, 5, 3, 2, 4, 5, 4, 1, 3, 3, 6, 4, 5, 2, 3, 2, 4, 4, 2, 1, 5, 5, 3, 1, 1, 6, 5, 3, 4, 1, 5, 6, 3, 6, 1, 5, 6, 4, 1, 4, 4, 4, 6, 5, 4, 4, 3]\n"
     ]
    }
   ],
   "source": [
    "die = Die()\n",
    "\n",
    "results = []\n",
    "for roll_num in range(100):\n",
    "    result = die.roll()\n",
    "    results.append(result)\n",
    "    \n",
    "print(results)"
   ]
  },
  {
   "cell_type": "code",
   "execution_count": null,
   "id": "c01fdf8f",
   "metadata": {},
   "outputs": [],
   "source": []
  },
  {
   "cell_type": "code",
   "execution_count": null,
   "id": "d26dca19",
   "metadata": {},
   "outputs": [],
   "source": []
  },
  {
   "cell_type": "code",
   "execution_count": null,
   "id": "66f1d25f",
   "metadata": {},
   "outputs": [],
   "source": []
  }
 ],
 "metadata": {
  "kernelspec": {
   "display_name": "Python 3 (ipykernel)",
   "language": "python",
   "name": "python3"
  },
  "language_info": {
   "codemirror_mode": {
    "name": "ipython",
    "version": 3
   },
   "file_extension": ".py",
   "mimetype": "text/x-python",
   "name": "python",
   "nbconvert_exporter": "python",
   "pygments_lexer": "ipython3",
   "version": "3.9.7"
  }
 },
 "nbformat": 4,
 "nbformat_minor": 5
}
