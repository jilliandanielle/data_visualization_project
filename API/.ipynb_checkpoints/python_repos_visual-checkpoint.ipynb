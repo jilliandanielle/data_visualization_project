{
 "cells": [
  {
   "cell_type": "code",
   "execution_count": null,
   "id": "1e952f40",
   "metadata": {},
   "outputs": [],
   "source": [
    "import requests\n",
    "\n",
    "from plotly.graph_objs import Bar\n",
    "from plotly import offline\n",
    "\n",
    "url = 'https://api.github.com/search/repositories?q=language:python&sort=stars'\n",
    "headers = {'Accept': 'application/vnd.github.v3+json'}\n",
    "r = requests.get(url, headers=headers)\n",
    "print(f\"Status code: {r.status_code}\")\n",
    "\n",
    "response_dict = r.json()  \n",
    "repo_dicts = response_dict['items']\n",
    "repo_names, stars = [],[]\n",
    "      \n",
    "for repo_dict in repo_dicts:\n",
    "    repo_names.append(repo_dict['name'])\n",
    "    stars.append(repo_dict['stargazers_count'])\n",
    "    \n",
    "data = [{\n",
    "    'type': 'bar', \n",
    "    'x': repo_names, \n",
    "    'y': stars, \n",
    "}]\n",
    "\n",
    "my_layout = {\n",
    "    'title': 'Most-Starred Python Projects on GitHub', \n",
    "    'xaxis': {'title': 'Repository'},\n",
    "    'yaxis': {'title': 'Stars'},\n",
    "}\n",
    "\n",
    "fig = {'data': data, 'layout': my_layout} \n",
    "offline.plot(fig, filename='python_repos.html')"
   ]
  }
 ],
 "metadata": {
  "kernelspec": {
   "display_name": "Python 3 (ipykernel)",
   "language": "python",
   "name": "python3"
  },
  "language_info": {
   "codemirror_mode": {
    "name": "ipython",
    "version": 3
   },
   "file_extension": ".py",
   "mimetype": "text/x-python",
   "name": "python",
   "nbconvert_exporter": "python",
   "pygments_lexer": "ipython3",
   "version": "3.9.7"
  }
 },
 "nbformat": 4,
 "nbformat_minor": 5
}
