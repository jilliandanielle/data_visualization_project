{
 "cells": [
  {
   "cell_type": "code",
   "execution_count": 3,
   "id": "61678955",
   "metadata": {},
   "outputs": [
    {
     "name": "stdout",
     "output_type": "stream",
     "text": [
      "['STATION', 'NAME', 'DATE', 'PRCP', 'TAVG', 'TMAX', 'TMIN']\n"
     ]
    }
   ],
   "source": [
    "import csv\n",
    "\n",
    "filename = 'data/sitka_weather_07-2018_simple.csv'\n",
    "with open(filename) as f:\n",
    "    reader = csv.reader(f)\n",
    "    header_row = next(reader)\n",
    "    \n",
    "    print(header_row)"
   ]
  },
  {
   "cell_type": "code",
   "execution_count": 4,
   "id": "e80ecf14",
   "metadata": {},
   "outputs": [
    {
     "name": "stdout",
     "output_type": "stream",
     "text": [
      "0 STATION\n",
      "1 NAME\n",
      "2 DATE\n",
      "3 PRCP\n",
      "4 TAVG\n",
      "5 TMAX\n",
      "6 TMIN\n"
     ]
    }
   ],
   "source": [
    "import csv\n",
    "\n",
    "filename = 'data/sitka_weather_07-2018_simple.csv'\n",
    "with open(filename) as f:\n",
    "    reader = csv.reader(f)\n",
    "    header_row = next(reader)\n",
    "    \n",
    "    for index, column_header in enumerate(header_row):\n",
    "        print(index, column_header)"
   ]
  },
  {
   "cell_type": "code",
   "execution_count": 6,
   "id": "e37788bc",
   "metadata": {},
   "outputs": [
    {
     "name": "stdout",
     "output_type": "stream",
     "text": [
      "[62, 58, 70, 70, 67, 59, 58, 62, 66, 59, 56, 63, 65, 58, 56, 59, 64, 60, 60, 61, 65, 65, 63, 59, 64, 65, 68, 66, 64, 67, 65]\n"
     ]
    }
   ],
   "source": [
    "import csv\n",
    "\n",
    "filename = 'data/sitka_weather_07-2018_simple.csv'\n",
    "with open(filename) as f:\n",
    "    reader = csv.reader(f)\n",
    "    header_row = next(reader)\n",
    "    \n",
    "    highs =[]\n",
    "    for row in reader:\n",
    "        high = row[5]\n",
    "        highs.append(high)\n",
    "print(highs)"
   ]
  }
 ],
 "metadata": {
  "kernelspec": {
   "display_name": "Python 3 (ipykernel)",
   "language": "python",
   "name": "python3"
  },
  "language_info": {
   "codemirror_mode": {
    "name": "ipython",
    "version": 3
   },
   "file_extension": ".py",
   "mimetype": "text/x-python",
   "name": "python",
   "nbconvert_exporter": "python",
   "pygments_lexer": "ipython3",
   "version": "3.9.7"
  }
 },
 "nbformat": 4,
 "nbformat_minor": 5
}
